{
 "cells": [
  {
   "metadata": {
    "ExecuteTime": {
     "end_time": "2025-08-16T14:17:55.358330Z",
     "start_time": "2025-08-16T14:17:55.355984Z"
    }
   },
   "cell_type": "code",
   "source": "from typing import Optional, List",
   "id": "e947d18019897a66",
   "outputs": [],
   "execution_count": 7
  },
  {
   "metadata": {},
   "cell_type": "markdown",
   "source": [
    "# Recursion - Factorial\n",
    "- Functions that call themselves\n",
    "- 2 cases:\n",
    "    - Base case\n",
    "    - Recursive case\n",
    "- 2 types of recursion\n",
    "    - one branch\n",
    "    - multi branch"
   ],
   "id": "83a6b9f8c7d1cc12"
  },
  {
   "cell_type": "code",
   "id": "initial_id",
   "metadata": {
    "collapsed": true,
    "ExecuteTime": {
     "end_time": "2025-08-16T14:17:58.918633Z",
     "start_time": "2025-08-16T14:17:58.915985Z"
    }
   },
   "source": [
    "def factorial(x):\n",
    "    if x <= 1:\n",
    "        return x\n",
    "    return x * factorial(x - 1)\n",
    "\n",
    "\n",
    "factorial(5)\n",
    "\n",
    "\n",
    "# Definition for singly-linked list.\n",
    "class ListNode:\n",
    "    def __init__(self, val=0, next=None):\n",
    "        self.val = val\n",
    "        self.next = next\n",
    "\n",
    "\n",
    "class Solution:\n",
    "    def reverseList(self, head: Optional[ListNode]) -> Optional[ListNode]:\n",
    "        if head is None:\n",
    "            return None\n",
    "\n",
    "        newHead = head\n",
    "\n",
    "        if head.next:\n",
    "            newHead = self.reverseList(head.next)\n",
    "            head.next.next = head\n",
    "        head.next = None\n",
    "\n",
    "        return newHead"
   ],
   "outputs": [],
   "execution_count": 8
  },
  {
   "metadata": {},
   "cell_type": "markdown",
   "source": "# Recursion - Fibonacci Sequence\n",
   "id": "1ff510eb568d114"
  },
  {
   "metadata": {
    "ExecuteTime": {
     "end_time": "2025-08-16T14:42:43.773745Z",
     "start_time": "2025-08-16T14:42:43.768864Z"
    }
   },
   "cell_type": "code",
   "source": [
    "def fibonacci(x):\n",
    "    if x <= 0:\n",
    "        return 0\n",
    "    if x == 1:\n",
    "        return 1\n",
    "\n",
    "    return fibonacci(x - 1) + fibonacci(x - 2)\n",
    "\n",
    "\n",
    "fibonacci(8)"
   ],
   "id": "d76773323475f4ed",
   "outputs": [
    {
     "data": {
      "text/plain": [
       "21"
      ]
     },
     "execution_count": 1,
     "metadata": {},
     "output_type": "execute_result"
    }
   ],
   "execution_count": 1
  },
  {
   "metadata": {
    "ExecuteTime": {
     "end_time": "2025-08-16T14:50:59.782339Z",
     "start_time": "2025-08-16T14:50:59.778200Z"
    }
   },
   "cell_type": "code",
   "source": [
    "class Solution:\n",
    "    def climbStairs(self, n: int) -> int:\n",
    "        cache = {}\n",
    "\n",
    "        def climb(n):\n",
    "            if n <= 1:\n",
    "                return 1\n",
    "\n",
    "            if n not in cache:\n",
    "                val = climb(n - 1) + climb(n - 2)\n",
    "                cache[n] = val\n",
    "                return val\n",
    "            else:\n",
    "                return cache[n]\n",
    "\n",
    "        result = climb(n)\n",
    "        print(cache)\n",
    "\n",
    "        return result\n",
    "\n",
    "\n",
    "sol = Solution()\n",
    "\n",
    "sol.climbStairs(5)"
   ],
   "id": "ab37812f48228f3a",
   "outputs": [
    {
     "name": "stdout",
     "output_type": "stream",
     "text": [
      "{2: 2, 3: 3, 4: 5, 5: 8}\n"
     ]
    },
    {
     "data": {
      "text/plain": [
       "8"
      ]
     },
     "execution_count": 11,
     "metadata": {},
     "output_type": "execute_result"
    }
   ],
   "execution_count": 11
  },
  {
   "metadata": {},
   "cell_type": "code",
   "outputs": [],
   "execution_count": null,
   "source": "",
   "id": "7d9f432cb7103f61"
  }
 ],
 "metadata": {
  "kernelspec": {
   "display_name": "Python 3",
   "language": "python",
   "name": "python3"
  },
  "language_info": {
   "codemirror_mode": {
    "name": "ipython",
    "version": 2
   },
   "file_extension": ".py",
   "mimetype": "text/x-python",
   "name": "python",
   "nbconvert_exporter": "python",
   "pygments_lexer": "ipython2",
   "version": "2.7.6"
  }
 },
 "nbformat": 4,
 "nbformat_minor": 5
}
