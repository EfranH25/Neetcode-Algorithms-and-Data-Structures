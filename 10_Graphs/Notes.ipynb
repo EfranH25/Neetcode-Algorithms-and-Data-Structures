{
 "cells": [
  {
   "metadata": {},
   "cell_type": "markdown",
   "source": [
    "# Intro to Graphs\n",
    "- Data structure of nodes connected via pointers\n",
    "- Nodes = vertices = V\n",
    "- Pointers = edges = E\n",
    "- No limit to # of pointers/edges\n",
    "- Nodes not connected by edges still graphs\n",
    "- Note E <= V assuming no duplicate edges are allowed\n",
    "- If Vertices have direction --> directed graph --> no direction = undirected graph\n",
    "- Graphs can be represented as:\n",
    "    - Matrix\n",
    "    - Adjacency Matrix\n",
    "    - Adjacency List\n",
    "- Matrix Representation:\n",
    "grid = [[0, 0, 0, 0],\n",
    "        [1, 1, 0, 0],\n",
    "        [0, 0, 0, 1],\n",
    "        [0, 1, 0, 0]]\n",
    "    - Above the 0 represent vertices and 1 represent blocked paths (non connected edges). So you can traverse the graph on on 0 positions\n",
    "    - Space: O(n*m) where n = rows and m = cols\n",
    "- Adjacency Matrix:\n",
    "adjMatrix = [[0, 0, 0, 0],\n",
    "             [1, 1, 0, 0],\n",
    "             [0, 0, 0, 1],\n",
    "             [0, 1, 0, 0]]\n",
    "    - Here the rows/cols (i/j) represent nodes [0,1,2,3,4] pointer pairs. The 1's in the Matrix mean that i, j are connected by an edge\n",
    "        - adjMatrix[i][j] = 1 = edge connected i and j\n",
    "        - adjMatrix[i][j] = 0 = NO edge connected i and j\n",
    "        - i.e. 1 -> 0, 1 -> 1, 2 -> 3, 3 -> 1\n",
    "        - Space: O(V^2) since every node (Vertic) in graph has to be a col & row in the matrix\n",
    "- Adjacency List:\n",
    "    - Most common graph representation\n",
    "    - Can be implemented as 2D array but often is done via a hashmap\n",
    "    - Space O(V + E)\n",
    "    - Can also be implemented by having nodes be called Graphnode\n",
    "```\n",
    "class GraphNode:\n",
    "    def __init__(self, val):\n",
    "        self.val = val\n",
    "        self.neighbors = []\n",
    "```"
   ],
   "id": "190fdf38bfb57453"
  },
  {
   "metadata": {
    "ExecuteTime": {
     "end_time": "2025-08-26T03:23:19.357104Z",
     "start_time": "2025-08-26T03:23:19.354158Z"
    }
   },
   "cell_type": "code",
   "source": [
    "# Matrix (2D Grid)\n",
    "grid = [[0, 0, 0, 0],\n",
    "        [1, 1, 0, 0],\n",
    "        [0, 0, 0, 1],\n",
    "        [0, 1, 0, 0]]\n",
    "\n",
    "# Adjacency matrix\n",
    "adjMatrix = [[0, 0, 0, 0],\n",
    "             [1, 1, 0, 0],\n",
    "             [0, 0, 0, 1],\n",
    "             [0, 1, 0, 0]]\n",
    "\n",
    "# GraphNode used for adjacency list\n",
    "class GraphNode:\n",
    "    def __init__(self, val):\n",
    "        self.val = val\n",
    "        self.neighbors = []"
   ],
   "id": "3a0a28c0c0c72bd",
   "outputs": [],
   "execution_count": 2
  },
  {
   "metadata": {},
   "cell_type": "markdown",
   "source": [
    "# Complete Graph\n",
    "## Definition\n",
    "A **complete graph** is a **simple graph** in which **every pair of distinct vertices is connected by a unique edge**.\n",
    "- **Simple graph** means:\n",
    "  - No self-loops (no edge from a vertex to itself).\n",
    "  - No multiple edges between the same pair of vertices.\n",
    "Formally:\n",
    "- If a graph has `n` vertices, then a complete graph is denoted as **Kₙ**.\n",
    "- The number of edges is:\n",
    "E = (n*(n-1))/2\n",
    "---\n",
    "## Examples\n",
    "- **K₂** → Two vertices connected by one edge.\n",
    "- **K₃** → Three vertices, each connected to each other (triangle).\n",
    "- **K₄** → Four vertices, each connected to each other (tetrahedron-like structure).\n",
    "---\n",
    "## Properties\n",
    "- **Maximum number of edges** possible for `n` vertices.\n",
    "- **Degree of each vertex** = `n-1` (each vertex is connected to all others).\n",
    "- **Undirected & simple** by definition.\n",
    "- Often used in **networking, optimization, and algorithms** (e.g., shortest path problems, traveling salesman problem) to model *fully connected* systems.\n",
    "---\n",
    "## Contrast with Directed Graphs\n",
    "- **Complete directed graph without self-loops** → every pair of distinct vertices has **two directed edges** (one in each direction).\n",
    "- **Complete directed graph with self-loops** → every vertex has an edge to every vertex (including itself), so total edges = `n²`.\n",
    "---\n",
    "## Summary\n",
    "A complete graph is the **most connected** version of a simple graph —\n",
    "**every node is directly connected to every other node**.\n"
   ],
   "id": "fef074c68fd373c8"
  },
  {
   "metadata": {},
   "cell_type": "markdown",
   "source": "# Matrix Traversal",
   "id": "1dc4f9f2880e41be"
  },
  {
   "metadata": {},
   "cell_type": "markdown",
   "source": [
    "## DFS\n",
    "- We can use DFS to move in all 4 directions of a matrix to find paths\n",
    "- Problem: Count the unique paths from the top left to the bottom right. A single path may only move along 0's and can't visit the same cell more than once.\n",
    "    - Similar to DFS/Backtracking but for all 4 directions and keeping track of unique paths\n",
    "    - Base Case:\n",
    "        - Unique path does not exist\n",
    "            -\n",
    "        - Unique path does exist"
   ],
   "id": "9526ba4b00b6ce21"
  },
  {
   "metadata": {},
   "cell_type": "markdown",
   "source": "## BFS",
   "id": "3f4471b9e7b73421"
  },
  {
   "metadata": {},
   "cell_type": "markdown",
   "source": "# Adjacency List",
   "id": "cc670d87b28e86d5"
  },
  {
   "cell_type": "code",
   "execution_count": null,
   "id": "initial_id",
   "metadata": {
    "collapsed": true
   },
   "outputs": [],
   "source": [
    ""
   ]
  }
 ],
 "metadata": {
  "kernelspec": {
   "display_name": "Python 3",
   "language": "python",
   "name": "python3"
  },
  "language_info": {
   "codemirror_mode": {
    "name": "ipython",
    "version": 2
   },
   "file_extension": ".py",
   "mimetype": "text/x-python",
   "name": "python",
   "nbconvert_exporter": "python",
   "pygments_lexer": "ipython2",
   "version": "2.7.6"
  }
 },
 "nbformat": 4,
 "nbformat_minor": 5
}
