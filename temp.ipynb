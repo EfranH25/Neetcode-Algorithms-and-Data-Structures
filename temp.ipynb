{
 "cells": [
  {
   "cell_type": "code",
   "id": "initial_id",
   "metadata": {
    "collapsed": true,
    "ExecuteTime": {
     "end_time": "2025-08-23T03:04:00.203993Z",
     "start_time": "2025-08-23T03:03:59.915877Z"
    }
   },
   "source": [
    "import math\n",
    "import random\n",
    "from typing import List\n",
    "from collections import deque\n",
    "import polars as pl"
   ],
   "outputs": [],
   "execution_count": 18
  },
  {
   "metadata": {
    "ExecuteTime": {
     "end_time": "2025-08-23T03:07:59.132961Z",
     "start_time": "2025-08-23T03:07:59.128789Z"
    }
   },
   "cell_type": "code",
   "source": [
    "def generate_random():\n",
    "    result = \"\"\n",
    "    for i in range(0, 10):\n",
    "        val = random.randint(0, 10)\n",
    "        result += str(val)\n",
    "    return result\n",
    "\n",
    "set_1 = [int(generate_random()) for x in range(10)]\n",
    "set_2 = [int(generate_random()) for x in range(10)]\n",
    "\n",
    "print(set_1)\n",
    "print(set_2)\n",
    "\n",
    "data = {\n",
    "    \"set_1\": set_1,\n",
    "    \"set_2\": set_2\n",
    "}\n",
    "\n",
    "df = pl.DataFrame(data)\n",
    "df"
   ],
   "id": "c5ed5bac30dbb35d",
   "outputs": [
    {
     "name": "stdout",
     "output_type": "stream",
     "text": [
      "[79693310009, 835720576, 41023648069, 70670553108, 7871089443, 53117010061, 2530577685, 9594363650, 36992101454, 6605883262]\n",
      "[2730414517, 10221452118, 97301210184, 3194276530, 3888856089, 822956110108, 1159977402, 3653997659, 13103030790, 92074221610]\n"
     ]
    },
    {
     "data": {
      "text/plain": [
       "shape: (10, 2)\n",
       "┌─────────────┬──────────────┐\n",
       "│ set_1       ┆ set_2        │\n",
       "│ ---         ┆ ---          │\n",
       "│ i64         ┆ i64          │\n",
       "╞═════════════╪══════════════╡\n",
       "│ 79693310009 ┆ 2730414517   │\n",
       "│ 835720576   ┆ 10221452118  │\n",
       "│ 41023648069 ┆ 97301210184  │\n",
       "│ 70670553108 ┆ 3194276530   │\n",
       "│ 7871089443  ┆ 3888856089   │\n",
       "│ 53117010061 ┆ 822956110108 │\n",
       "│ 2530577685  ┆ 1159977402   │\n",
       "│ 9594363650  ┆ 3653997659   │\n",
       "│ 36992101454 ┆ 13103030790  │\n",
       "│ 6605883262  ┆ 92074221610  │\n",
       "└─────────────┴──────────────┘"
      ],
      "text/html": [
       "<div><style>\n",
       ".dataframe > thead > tr,\n",
       ".dataframe > tbody > tr {\n",
       "  text-align: right;\n",
       "  white-space: pre-wrap;\n",
       "}\n",
       "</style>\n",
       "<small>shape: (10, 2)</small><table border=\"1\" class=\"dataframe\"><thead><tr><th>set_1</th><th>set_2</th></tr><tr><td>i64</td><td>i64</td></tr></thead><tbody><tr><td>79693310009</td><td>2730414517</td></tr><tr><td>835720576</td><td>10221452118</td></tr><tr><td>41023648069</td><td>97301210184</td></tr><tr><td>70670553108</td><td>3194276530</td></tr><tr><td>7871089443</td><td>3888856089</td></tr><tr><td>53117010061</td><td>822956110108</td></tr><tr><td>2530577685</td><td>1159977402</td></tr><tr><td>9594363650</td><td>3653997659</td></tr><tr><td>36992101454</td><td>13103030790</td></tr><tr><td>6605883262</td><td>92074221610</td></tr></tbody></table></div>"
      ]
     },
     "execution_count": 24,
     "metadata": {},
     "output_type": "execute_result"
    }
   ],
   "execution_count": 24
  },
  {
   "metadata": {
    "ExecuteTime": {
     "end_time": "2025-08-23T03:09:16.198289Z",
     "start_time": "2025-08-23T03:09:16.195035Z"
    }
   },
   "cell_type": "code",
   "source": [
    "df = df.with_columns((pl.col(\"set_1\") > pl.col(\"set_2\")).alias(\"set_1 > set_2\"))\n",
    "df"
   ],
   "id": "99d28656f324beb9",
   "outputs": [
    {
     "data": {
      "text/plain": [
       "shape: (10, 3)\n",
       "┌─────────────┬──────────────┬───────────────┐\n",
       "│ set_1       ┆ set_2        ┆ set_1 > set_2 │\n",
       "│ ---         ┆ ---          ┆ ---           │\n",
       "│ i64         ┆ i64          ┆ bool          │\n",
       "╞═════════════╪══════════════╪═══════════════╡\n",
       "│ 79693310009 ┆ 2730414517   ┆ true          │\n",
       "│ 835720576   ┆ 10221452118  ┆ false         │\n",
       "│ 41023648069 ┆ 97301210184  ┆ false         │\n",
       "│ 70670553108 ┆ 3194276530   ┆ true          │\n",
       "│ 7871089443  ┆ 3888856089   ┆ true          │\n",
       "│ 53117010061 ┆ 822956110108 ┆ false         │\n",
       "│ 2530577685  ┆ 1159977402   ┆ true          │\n",
       "│ 9594363650  ┆ 3653997659   ┆ true          │\n",
       "│ 36992101454 ┆ 13103030790  ┆ true          │\n",
       "│ 6605883262  ┆ 92074221610  ┆ false         │\n",
       "└─────────────┴──────────────┴───────────────┘"
      ],
      "text/html": [
       "<div><style>\n",
       ".dataframe > thead > tr,\n",
       ".dataframe > tbody > tr {\n",
       "  text-align: right;\n",
       "  white-space: pre-wrap;\n",
       "}\n",
       "</style>\n",
       "<small>shape: (10, 3)</small><table border=\"1\" class=\"dataframe\"><thead><tr><th>set_1</th><th>set_2</th><th>set_1 &gt; set_2</th></tr><tr><td>i64</td><td>i64</td><td>bool</td></tr></thead><tbody><tr><td>79693310009</td><td>2730414517</td><td>true</td></tr><tr><td>835720576</td><td>10221452118</td><td>false</td></tr><tr><td>41023648069</td><td>97301210184</td><td>false</td></tr><tr><td>70670553108</td><td>3194276530</td><td>true</td></tr><tr><td>7871089443</td><td>3888856089</td><td>true</td></tr><tr><td>53117010061</td><td>822956110108</td><td>false</td></tr><tr><td>2530577685</td><td>1159977402</td><td>true</td></tr><tr><td>9594363650</td><td>3653997659</td><td>true</td></tr><tr><td>36992101454</td><td>13103030790</td><td>true</td></tr><tr><td>6605883262</td><td>92074221610</td><td>false</td></tr></tbody></table></div>"
      ]
     },
     "execution_count": 25,
     "metadata": {},
     "output_type": "execute_result"
    }
   ],
   "execution_count": 25
  },
  {
   "metadata": {
    "ExecuteTime": {
     "end_time": "2025-08-23T03:06:44.792518Z",
     "start_time": "2025-08-23T03:06:44.789345Z"
    }
   },
   "cell_type": "code",
   "source": [
    "79693310009\n",
    "70093310009\n",
    "\"------------\"\n",
    "835720576\n",
    "805720576\n",
    "\"------------\"\n",
    "41023648069\n",
    "40023648069\n",
    "\"------------\"\n",
    "70670553108\n",
    "70070553108\n",
    "\"------------\"\n",
    "7871089443\n",
    "7071089443\n",
    "\"------------\"\n",
    "53117010061\n",
    "50017010061\n",
    "\"------------\"\n",
    "2530577685\n",
    "2030577685\n",
    "\"------------\"\n",
    "9594363650\n",
    "9094363650\n",
    "\"------------\"\n",
    "36992101454\n",
    "30992101454\n",
    "\"------------\"\n",
    "6605883262\n",
    "6005883262\n",
    "\"------------\""
   ],
   "id": "ce72505cc1c9cd6e",
   "outputs": [
    {
     "data": {
      "text/plain": [
       "(20, 3)"
      ]
     },
     "execution_count": 21,
     "metadata": {},
     "output_type": "execute_result"
    }
   ],
   "execution_count": 21
  },
  {
   "metadata": {},
   "cell_type": "code",
   "outputs": [],
   "execution_count": null,
   "source": "",
   "id": "411136a2e3e49cb"
  }
 ],
 "metadata": {
  "kernelspec": {
   "display_name": "Python 3",
   "language": "python",
   "name": "python3"
  },
  "language_info": {
   "codemirror_mode": {
    "name": "ipython",
    "version": 2
   },
   "file_extension": ".py",
   "mimetype": "text/x-python",
   "name": "python",
   "nbconvert_exporter": "python",
   "pygments_lexer": "ipython2",
   "version": "2.7.6"
  }
 },
 "nbformat": 4,
 "nbformat_minor": 5
}
