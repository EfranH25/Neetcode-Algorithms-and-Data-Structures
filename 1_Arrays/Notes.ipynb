{
 "cells": [
  {
   "metadata": {},
   "cell_type": "markdown",
   "source": [
    "# RAM\n",
    "- Data structure stored in RAM\n",
    "- Arrays are stored in RAM as a contiguous collection of elements lie [1,4,5]\n",
    "    - Integers commonly occupy 4 bytes (32 bits) in memory\n",
    "- RAM has extra information, not just the stored values. Such as the memory address for each value"
   ],
   "id": "1aab0f7ccacf5242"
  },
  {
   "metadata": {},
   "cell_type": "markdown",
   "source": [
    "# Static Arrays\n",
    "- Size cant be changed in statically typed languages like Java, C++, etc\n",
    "- Python does not have static arrays\n",
    "- Lookup value in array via array index --> O(1) time complexity\n",
    "- Traversal of array of size n is O(n)\n",
    "- Operations:\n",
    "    - Read: O(1)\n",
    "    - Insert (nullify and shift over): O(n) or O(1) at ends\n",
    "    - Delete (nullify and shift over): O(n) or O(1) at ends\n"
   ],
   "id": "f1c8d8e00da8c866"
  },
  {
   "metadata": {},
   "cell_type": "markdown",
   "source": [
    "# Dynamic Array\n",
    "- Unlike static arrays, can grow in size --> resized automatically on runtime\n",
    "    - When resize happens, in back end new array 2x size of original is created and values are copied over\n",
    "- Operations:\n",
    "    - Access: O(1)\n",
    "    - Insertion: O(1)* --> O(n) if insertion in the middle since shifting will be required\n",
    "    - Deletion: O(1)* --> O(n) if deletion in the middle since shifting will be required"
   ],
   "id": "85a9670c6cb21f4e"
  },
  {
   "metadata": {},
   "cell_type": "code",
   "outputs": [],
   "execution_count": null,
   "source": [
    "class DynamicArray:\n",
    "    def __init__(self, capacity: int):\n",
    "        self.capacity = capacity\n",
    "        self.length = 0\n",
    "        self.arr = [0] * self.capacity\n",
    "\n",
    "    # Get value at i-th index\n",
    "    def get(self, i: int) -> int:\n",
    "        return self.arr[i]\n",
    "\n",
    "    # Set n at i-th index\n",
    "    def set(self, i: int, n: int) -> None:\n",
    "        self.arr[i] = n\n",
    "\n",
    "    # Insert n in the last position of the array\n",
    "    def pushback(self, n: int) -> None:\n",
    "        if self.length == self.capacity:\n",
    "            self.resize()\n",
    "\n",
    "        self.arr[self.length] = n\n",
    "        self.length += 1\n",
    "\n",
    "    # Remove the last element in the array\n",
    "    def popback(self) -> int:\n",
    "        if self.length > 0:\n",
    "            # soft delete the last element\n",
    "            self.length -= 1\n",
    "        # return the popped element\n",
    "        return self.arr[self.length]\n",
    "\n",
    "    # Create new array of double capacity and move elements over\n",
    "    def resize(self) -> None:\n",
    "        self.capacity = 2 * self.capacity\n",
    "        new_arr = [0] * self.capacity\n",
    "        for idx, num in enumerate(self.arr):\n",
    "            new_arr[idx] = num\n",
    "        self.arr = new_arr\n",
    "\n",
    "    def getSize(self) -> int:\n",
    "        return self.length\n",
    "\n",
    "    def getCapacity(self) -> int:\n",
    "        return self.capacity"
   ],
   "id": "76cf4d52a6c24d2d"
  },
  {
   "metadata": {},
   "cell_type": "markdown",
   "source": [
    "# Stacks - LIFO (Last In First Out)\n",
    "- Can only add elements to a stack\n",
    "- Peek the top\n",
    "- Remove top element"
   ],
   "id": "6dc5d46245b42f76"
  },
  {
   "metadata": {},
   "cell_type": "code",
   "outputs": [],
   "execution_count": null,
   "source": "",
   "id": "c80e2ca3829bb400"
  }
 ],
 "metadata": {
  "kernelspec": {
   "display_name": "Python 3",
   "language": "python",
   "name": "python3"
  },
  "language_info": {
   "codemirror_mode": {
    "name": "ipython",
    "version": 2
   },
   "file_extension": ".py",
   "mimetype": "text/x-python",
   "name": "python",
   "nbconvert_exporter": "python",
   "pygments_lexer": "ipython2",
   "version": "2.7.6"
  }
 },
 "nbformat": 4,
 "nbformat_minor": 5
}
