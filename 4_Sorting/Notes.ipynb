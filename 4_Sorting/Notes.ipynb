{
 "cells": [
  {
   "metadata": {
    "ExecuteTime": {
     "end_time": "2025-08-18T16:24:54.121035Z",
     "start_time": "2025-08-18T16:24:54.119116Z"
    }
   },
   "cell_type": "code",
   "source": "from typing import List",
   "id": "d74dbaef82010dd7",
   "outputs": [],
   "execution_count": 22
  },
  {
   "metadata": {},
   "cell_type": "markdown",
   "source": [
    "# Insertion Sort:\n",
    "- Easy to understand and implement\n",
    "- Not the most efficient sorting algorithm for large data sets\n",
    "- Stability & Relative ordering: for insertion sort, guaranteed relative order will remain the same\n",
    "- Big O:\n",
    "    - Time: O(n^2)\n",
    "    - Space: O(1)"
   ],
   "id": "59c9777e92735c31"
  },
  {
   "metadata": {
    "ExecuteTime": {
     "end_time": "2025-08-16T16:58:38.058393Z",
     "start_time": "2025-08-16T16:58:38.054677Z"
    }
   },
   "cell_type": "code",
   "source": [
    "def insertion_sort(arr: List[int]) -> List[int]:\n",
    "    output = []\n",
    "    output.append(arr.copy())\n",
    "    for i in range(1, len(arr)):\n",
    "        j = i - 1\n",
    "        while j >= 0 and arr[j + 1] < arr[j]:\n",
    "            arr[j], arr[j + 1] = arr[j + 1], arr[j]\n",
    "            j -= 1\n",
    "            output.append(arr.copy())\n",
    "\n",
    "    return output\n",
    "\n",
    "\n",
    "data = insertion_sort([5, 4, 3, 2, 1])\n",
    "data"
   ],
   "id": "1bdf3c77e500584f",
   "outputs": [
    {
     "data": {
      "text/plain": [
       "[[5, 4, 3, 2, 1],\n",
       " [4, 5, 3, 2, 1],\n",
       " [4, 3, 5, 2, 1],\n",
       " [3, 4, 5, 2, 1],\n",
       " [3, 4, 2, 5, 1],\n",
       " [3, 2, 4, 5, 1],\n",
       " [2, 3, 4, 5, 1],\n",
       " [2, 3, 4, 1, 5],\n",
       " [2, 3, 1, 4, 5],\n",
       " [2, 1, 3, 4, 5],\n",
       " [1, 2, 3, 4, 5]]"
      ]
     },
     "execution_count": 33,
     "metadata": {},
     "output_type": "execute_result"
    }
   ],
   "execution_count": 33
  },
  {
   "metadata": {},
   "cell_type": "markdown",
   "source": [
    "# Merge Sort\n",
    "- Divide and conquer algorithm\n",
    "- Splits arrays until smaller halves until 1 --> swaps upwards"
   ],
   "id": "aae5afdbb704b342"
  },
  {
   "metadata": {
    "ExecuteTime": {
     "end_time": "2025-08-16T17:10:51.515888Z",
     "start_time": "2025-08-16T17:10:51.512211Z"
    }
   },
   "cell_type": "code",
   "source": [
    "def merge_sort(data: List[int]) -> List[int]:\n",
    "    if len(data) <= 1:\n",
    "        return data\n",
    "\n",
    "    size = len(data)\n",
    "\n",
    "    left = merge_sort(data[:int(size / 2)])\n",
    "    right = merge_sort(data[int(size / 2):])\n",
    "\n",
    "    if left[0] <= right[-1]:\n",
    "        combine = left + right\n",
    "    else:\n",
    "        combine = right + left\n",
    "    print(combine, left, right)\n",
    "    return combine\n",
    "\n",
    "\n",
    "merge_sort([5, 4, 3, 2, 1, 10, 11])"
   ],
   "id": "4aa6c51eb972ba95",
   "outputs": [
    {
     "name": "stdout",
     "output_type": "stream",
     "text": [
      "[3, 4] [4] [3]\n",
      "[3, 4, 5] [5] [3, 4]\n",
      "[1, 2] [2] [1]\n",
      "[10, 11] [10] [11]\n",
      "[1, 2, 10, 11] [1, 2] [10, 11]\n",
      "[3, 4, 5, 1, 2, 10, 11] [3, 4, 5] [1, 2, 10, 11]\n"
     ]
    },
    {
     "data": {
      "text/plain": [
       "[3, 4, 5, 1, 2, 10, 11]"
      ]
     },
     "execution_count": 51,
     "metadata": {},
     "output_type": "execute_result"
    }
   ],
   "execution_count": 51
  },
  {
   "metadata": {
    "ExecuteTime": {
     "end_time": "2025-08-16T17:03:38.967168Z",
     "start_time": "2025-08-16T17:03:38.964320Z"
    }
   },
   "cell_type": "code",
   "source": [
    "data = [5, 4, 3, 2, 1]\n",
    "size = len(data)\n",
    "left = data[:int(size / 2)]\n",
    "right = data[int(size / 2):]\n",
    "left, right"
   ],
   "id": "9e37c1ff4423abc7",
   "outputs": [
    {
     "data": {
      "text/plain": [
       "([5, 4], [3, 2, 1])"
      ]
     },
     "execution_count": 39,
     "metadata": {},
     "output_type": "execute_result"
    }
   ],
   "execution_count": 39
  },
  {
   "metadata": {},
   "cell_type": "markdown",
   "source": [
    "# Quick Sort\n",
    "Idea:\n",
    "- Pick a pivot value (like rightmost element of array)\n",
    "- Iterate through all elements, every element <= pivot, on lefthand partition\n",
    "- Have 1 arrow track <= value, only swaps when triggered and moves to new spot\n",
    "- 1 arrow goes up array\n",
    "- Greater than on right hand partition\n"
   ],
   "id": "5910b72d6f5c698a"
  },
  {
   "metadata": {
    "ExecuteTime": {
     "end_time": "2025-08-18T16:25:25.254416Z",
     "start_time": "2025-08-18T16:25:25.251910Z"
    }
   },
   "cell_type": "code",
   "source": [
    "arr = [1,2,3]\n",
    "\n",
    "arr[len(arr)-1]"
   ],
   "id": "500abd3a17d2684f",
   "outputs": [
    {
     "data": {
      "text/plain": [
       "3"
      ]
     },
     "execution_count": 25,
     "metadata": {},
     "output_type": "execute_result"
    }
   ],
   "execution_count": 25
  },
  {
   "metadata": {
    "ExecuteTime": {
     "end_time": "2025-08-18T16:25:37.323576Z",
     "start_time": "2025-08-18T16:25:37.319821Z"
    }
   },
   "cell_type": "code",
   "source": [
    "# Definition for a pair.\n",
    "# class Pair:\n",
    "#     def __init__(self, key: int, value: str):\n",
    "#         self.key = key\n",
    "#         self.value = value\n",
    "class Solution:\n",
    "    def quickSort(self, arr: List[int]) -> List[int]:\n",
    "        def sort(arr: List[int], s: int, e: int) -> List[int]:\n",
    "            # Base case: array is 1 value i.e. sorted\n",
    "            if e - s + 1 <= 1:\n",
    "                return arr\n",
    "\n",
    "            pivot = arr[e]\n",
    "            left = s\n",
    "            for i in range(s, e):\n",
    "                if arr[i] < pivot:\n",
    "                    arr[left], arr[i] = arr[i], arr[left]\n",
    "                    left += 1\n",
    "\n",
    "            arr[left], arr[e] = arr[e], arr[left]\n",
    "\n",
    "            sort(arr, s, left - 1)\n",
    "            sort(arr, left + 1, e)\n",
    "\n",
    "            return arr\n",
    "\n",
    "        return sort(arr, 0, len(arr)-1)\n",
    "\n",
    "\n",
    "sol = Solution()\n",
    "sol.quickSort([5,4,3,2,1])\n"
   ],
   "id": "95845c4f4a8580c5",
   "outputs": [
    {
     "data": {
      "text/plain": [
       "[1, 2, 3, 4, 5]"
      ]
     },
     "execution_count": 27,
     "metadata": {},
     "output_type": "execute_result"
    }
   ],
   "execution_count": 27
  },
  {
   "metadata": {},
   "cell_type": "code",
   "outputs": [],
   "execution_count": null,
   "source": [
    "class Pair:\n",
    "    def __init__(self, key: int, value: str):\n",
    "        self.key = key\n",
    "        self.value = value\n",
    "\n",
    "class Solution:\n",
    "    def sort(self, pairs, start, end):\n",
    "        if  end - start + 1 <= 1:\n",
    "            return pairs\n",
    "\n",
    "        pivot = pairs[end].key\n",
    "        left = start\n",
    "        for idx in range(start, end):\n",
    "            if pairs[idx].key < pivot:\n",
    "                pairs[left], pairs[idx] = pairs[idx], pairs[left]\n",
    "                left += 1\n",
    "        pairs[left], pairs[end] = pairs[end], pairs[left]\n",
    "        self.sort(pairs, start, left - 1)\n",
    "        self.sort(pairs, left + 1, end)\n",
    "        return pairs\n",
    "\n",
    "    def quickSort(self, pairs: List[Pair]) -> List[Pair]:\n",
    "        return self.sort(pairs, 0, len(pairs)-1)"
   ],
   "id": "24d5b53a84284641"
  }
 ],
 "metadata": {
  "kernelspec": {
   "display_name": "Python 3",
   "language": "python",
   "name": "python3"
  },
  "language_info": {
   "codemirror_mode": {
    "name": "ipython",
    "version": 2
   },
   "file_extension": ".py",
   "mimetype": "text/x-python",
   "name": "python",
   "nbconvert_exporter": "python",
   "pygments_lexer": "ipython2",
   "version": "2.7.6"
  }
 },
 "nbformat": 4,
 "nbformat_minor": 5
}
