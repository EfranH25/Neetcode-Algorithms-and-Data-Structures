{
 "cells": [
  {
   "metadata": {},
   "cell_type": "markdown",
   "source": [
    "# Hash Usage\n",
    "- Operations Comparison:\n",
    "| Operation        | TreeMap   | HashMap | Array                  |\n",
    "|------------------|-----------|---------|------------------------|\n",
    "| Insert           | O(log n)  | O(1)    | O(n)                   |\n",
    "| Remove           | O(log n)  | O(1)    | O(n)                   |\n",
    "| Search           | O(log n)  | O(1)    | O(log n), if sorted    |\n",
    "| Inorder Traversal| O(n)      | -       | -                      |\n",
    "- Note: Check BST Sets and Maps for reminder on Tree Map\n",
    "    - https://neetcode.io/courses/dsa-for-beginners/21\n",
    "- Downside of Hash Maps is that they are not ordered\n",
    "    - in python can used OrderedDict from `collections` library"
   ],
   "id": "41291f7d3d7380af"
  },
  {
   "metadata": {},
   "cell_type": "code",
   "outputs": [],
   "execution_count": null,
   "source": [
    "names = [\"alice\", \"brad\", \"collin\", \"brad\", \"dylan\", \"kim\"]\n",
    "\n",
    "countMap = {}\n",
    "for name in names:\n",
    "    # If countMap does not contain name\n",
    "    if name not in countMap:\n",
    "        countMap[name] = 1\n",
    "    else:\n",
    "        countMap[name] += 1\n"
   ],
   "id": "73a5546a3764b4c2"
  },
  {
   "metadata": {},
   "cell_type": "markdown",
   "source": [
    "# Hashmap Implementation\n",
    "- https://neetcode.io/courses/dsa-for-beginners/27\n",
    "- Uses an array under the hood\n",
    "- Uses hash function to lookup keys in O(1) time\n",
    "- Hash func converted key to int which is the index the value is stored in the array\n",
    "- Uses something like modulo to reduce hash index size so that array doesn't have to be large to hold a lot of things\n",
    "- If hashes for keys are the same then a `collision` has occurred\n",
    "- Handling Collisions:\n",
    "    - Chaining: When collision has occurred, use a linked list to map keys to same array index then iterate on the index to find correct key --> avg O(1) lookup time\n",
    "    - Open Addressing: If collision, find next available index in array and place there"
   ],
   "id": "eeaedcaa82558995"
  },
  {
   "metadata": {
    "ExecuteTime": {
     "end_time": "2025-08-26T02:41:51.708534Z",
     "start_time": "2025-08-26T02:41:51.703484Z"
    }
   },
   "cell_type": "code",
   "source": [
    "class Pair:\n",
    "    def __init__(self, key, val):\n",
    "        self.key = key\n",
    "        self.val = val\n",
    "\n",
    "class HashMap:\n",
    "    def __init__(self):\n",
    "        self.size = 0\n",
    "        self.capacity = 2\n",
    "        self.map = [None, None]\n",
    "\n",
    "    def hash(self, key):\n",
    "        index = 0\n",
    "        for c in key:\n",
    "            index += ord(c)\n",
    "        return index % self.capacity\n",
    "\n",
    "    def get(self, key):\n",
    "        index = self.hash(key)\n",
    "\n",
    "        while self.map[index] != None:\n",
    "            if self.map[index].key == key:\n",
    "                return self.map[index].val\n",
    "            index += 1\n",
    "            index = index % self.capacity\n",
    "        return None\n",
    "\n",
    "    def put(self, key, val):\n",
    "        index = self.hash(key)\n",
    "\n",
    "        while True:\n",
    "            if self.map[index] == None:\n",
    "                self.map[index] = Pair(key, val)\n",
    "                self.size += 1\n",
    "                if self.size >= self.capacity // 2:\n",
    "                    self.rehash()\n",
    "                return\n",
    "            elif self.map[index].key == key:\n",
    "                self.map[index].val = val\n",
    "                return\n",
    "\n",
    "            index += 1\n",
    "            index = index % self.capacity\n",
    "\n",
    "    def remove(self, key):\n",
    "        if not self.get(key):\n",
    "            return\n",
    "\n",
    "        index = self.hash(key)\n",
    "        while True:\n",
    "            if self.map[index].key == key:\n",
    "                # Removing an element using open-addressing actually causes a bug,\n",
    "                # because we may create a hole in the list, and our get() may\n",
    "                # stop searching early when it reaches this hole.\n",
    "                self.map[index] = None\n",
    "                self.size -= 1\n",
    "                return\n",
    "            index += 1\n",
    "            index = index % self.capacity\n",
    "\n",
    "    def rehash(self):\n",
    "        self.capacity = 2 * self.capacity\n",
    "        newMap = []\n",
    "        for i in range(self.capacity):\n",
    "            newMap.append(None)\n",
    "\n",
    "        oldMap = self.map\n",
    "        self.map = newMap\n",
    "        self.size = 0\n",
    "        for pair in oldMap:\n",
    "            if pair:\n",
    "                self.put(pair.key, pair.val)\n",
    "\n",
    "    def print(self):\n",
    "        for pair in self.map:\n",
    "            if pair:\n",
    "                print(pair.key, pair.val)\n"
   ],
   "id": "c558e40a369eb9d8",
   "outputs": [],
   "execution_count": 1
  },
  {
   "metadata": {},
   "cell_type": "code",
   "outputs": [],
   "execution_count": null,
   "source": "",
   "id": "764d52e682a3f492"
  }
 ],
 "metadata": {
  "kernelspec": {
   "display_name": "Python 3",
   "language": "python",
   "name": "python3"
  },
  "language_info": {
   "codemirror_mode": {
    "name": "ipython",
    "version": 2
   },
   "file_extension": ".py",
   "mimetype": "text/x-python",
   "name": "python",
   "nbconvert_exporter": "python",
   "pygments_lexer": "ipython2",
   "version": "2.7.6"
  }
 },
 "nbformat": 4,
 "nbformat_minor": 5
}
