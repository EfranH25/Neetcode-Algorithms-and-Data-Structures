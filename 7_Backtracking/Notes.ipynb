{
 "cells": [
  {
   "metadata": {},
   "cell_type": "markdown",
   "source": [
    "# Tree Maze\n",
    "- Trying all possible paths until we find a way out. Similar to DFS\n",
    "- Can arbitrarily pick a path, then go down path, if found return true else go down other path\n",
    "- If all options don't return anything, return False\n",
    "- Can use recursion\n",
    "- Can use a stack to track correct path\n",
    "- Time: O(n) i.e. worst case visit all nodes\n",
    "- Space: O(n) where n = h i.e. height of tree because the longest path we keep track of is tree height"
   ],
   "id": "7dbdbc83cadb3431"
  },
  {
   "metadata": {},
   "cell_type": "markdown",
   "source": [
    "1,2,3,4\n",
    "\n",
    "1\n",
    "1,2\n",
    "1,3\n",
    "1,4\n",
    "1,2,3\n",
    "1,2,4\n",
    "1,3,4\n",
    "1,2,3,4\n",
    "\n",
    "2,3\n",
    "2,3,4\n"
   ],
   "id": "95db73c12263e330"
  },
  {
   "metadata": {
    "ExecuteTime": {
     "end_time": "2025-08-22T19:20:02.239206Z",
     "start_time": "2025-08-22T19:20:02.236403Z"
    }
   },
   "cell_type": "code",
   "source": [
    "temp = [1, 5, 2,3,4]\n",
    "temp.sort(reverse=True)\n",
    "temp"
   ],
   "id": "b021608ba1b7f680",
   "outputs": [
    {
     "data": {
      "text/plain": [
       "[5, 4, 3, 2, 1]"
      ]
     },
     "execution_count": 35,
     "metadata": {},
     "output_type": "execute_result"
    }
   ],
   "execution_count": 35
  },
  {
   "metadata": {},
   "cell_type": "code",
   "outputs": [],
   "execution_count": null,
   "source": "",
   "id": "cd0c170275e71cbc"
  },
  {
   "metadata": {
    "ExecuteTime": {
     "end_time": "2025-08-22T19:13:29.526694Z",
     "start_time": "2025-08-22T19:13:29.523411Z"
    }
   },
   "cell_type": "code",
   "source": [
    "\n",
    "result = [[]]\n",
    "\n",
    "\n",
    "def search(entry, remainder):\n",
    "    if not remainder:\n",
    "        print(\"END\", entry, remainder)\n",
    "        return remainder\n",
    "    print(\"--------\", entry, remainder)\n",
    "    for i in range(len(remainder)):\n",
    "        value = remainder[i:i+1]\n",
    "        entry += value\n",
    "\n",
    "        remainder = remainder[:i] +  remainder[i+1:]\n",
    "        print(entry, remainder, value)\n",
    "\n",
    "        search(entry, remainder)\n",
    "    return None\n",
    "\n",
    "\n",
    "search([], [1,2,3])\n",
    "\n"
   ],
   "id": "77e37c95cbb95f80",
   "outputs": [
    {
     "name": "stdout",
     "output_type": "stream",
     "text": [
      "-------- [] [1, 2, 3]\n",
      "[1] [2, 3] [1]\n",
      "-------- [1] [2, 3]\n",
      "[1, 2] [3] [2]\n",
      "-------- [1, 2] [3]\n",
      "[1, 2, 3] [] [3]\n",
      "END [1, 2, 3] []\n",
      "[1, 2, 3] [3] []\n",
      "-------- [1, 2, 3] [3]\n",
      "[1, 2, 3, 3] [] [3]\n",
      "END [1, 2, 3, 3] []\n",
      "[1, 2, 3, 3, 3] [2] [3]\n",
      "-------- [1, 2, 3, 3, 3] [2]\n",
      "[1, 2, 3, 3, 3, 2] [] [2]\n",
      "END [1, 2, 3, 3, 3, 2] []\n",
      "[1, 2, 3, 3, 3, 2] [2] []\n",
      "-------- [1, 2, 3, 3, 3, 2] [2]\n",
      "[1, 2, 3, 3, 3, 2, 2] [] [2]\n",
      "END [1, 2, 3, 3, 3, 2, 2] []\n"
     ]
    }
   ],
   "execution_count": 33
  },
  {
   "metadata": {
    "ExecuteTime": {
     "end_time": "2025-08-22T18:47:15.602890Z",
     "start_time": "2025-08-22T18:47:15.600269Z"
    }
   },
   "cell_type": "code",
   "source": [
    "nums = [1,2,3,4]\n",
    "\n",
    "for i in range(len(nums)):\n",
    "    value = nums[i:i+1]\n",
    "    remainder = nums[:i] +  nums[i+1:]\n",
    "    print(value, remainder)"
   ],
   "id": "99c21faca47abb41",
   "outputs": [
    {
     "name": "stdout",
     "output_type": "stream",
     "text": [
      "[1] [2, 3, 4]\n",
      "[2] [1, 3, 4]\n",
      "[3] [1, 2, 4]\n",
      "[4] [1, 2, 3]\n"
     ]
    }
   ],
   "execution_count": 16
  },
  {
   "metadata": {},
   "cell_type": "code",
   "outputs": [],
   "execution_count": null,
   "source": [
    "\n",
    "class Solution:\n",
    "    def subsets(self, nums: List[int]) -> List[List[int]]:\n",
    "        result = [[]]\n",
    "\n",
    "        L, R = 0, 0\n",
    "        while L < len(nums):\n",
    "            R = L+1\n",
    "            while R <= len(nums):\n",
    "                print(nums[L:R])\n",
    "                result.append(nums[L:R])\n",
    "                R += 1\n",
    "\n",
    "\n",
    "            L += 1\n",
    "\n",
    "        print(result)\n",
    "        return result"
   ],
   "id": "74df72f16365839f"
  },
  {
   "metadata": {
    "ExecuteTime": {
     "end_time": "2025-08-22T18:29:43.129202Z",
     "start_time": "2025-08-22T18:29:43.126421Z"
    }
   },
   "cell_type": "code",
   "source": [
    "temp  = [1,2,3,4]\n",
    "temp[0:1]\n",
    "\n",
    "temp.pop(1)\n",
    "temp"
   ],
   "id": "4aa66523d38eab43",
   "outputs": [
    {
     "data": {
      "text/plain": [
       "[1, 3, 4]"
      ]
     },
     "execution_count": 8,
     "metadata": {},
     "output_type": "execute_result"
    }
   ],
   "execution_count": 8
  },
  {
   "cell_type": "code",
   "id": "initial_id",
   "metadata": {
    "collapsed": true,
    "ExecuteTime": {
     "end_time": "2025-08-22T17:36:31.414633Z",
     "start_time": "2025-08-22T17:36:31.411249Z"
    }
   },
   "source": [
    "class TreeNode:\n",
    "    def __init__(self, val):\n",
    "        self.val = val\n",
    "        self.left = None\n",
    "        self.right = None\n",
    "\n",
    "def canReachLeaf(root):\n",
    "    if not root or root.val == 0:\n",
    "        return False\n",
    "\n",
    "    if not root.left and not root.right:\n",
    "        return True\n",
    "    if canReachLeaf(root.left):\n",
    "        return True\n",
    "    if canReachLeaf(root.right):\n",
    "        return True\n",
    "    return False\n",
    "\n",
    "def leafPath(root, path):\n",
    "    if not root or root.val == 0:\n",
    "        return False\n",
    "    path.append(root.val)\n",
    "\n",
    "    if not root.left and not root.right:\n",
    "        return True\n",
    "    if leafPath(root.left, path):\n",
    "        return True\n",
    "    if leafPath(root.right, path):\n",
    "        return True\n",
    "    path.pop()\n",
    "    return False\n"
   ],
   "outputs": [],
   "execution_count": 3
  },
  {
   "metadata": {
    "ExecuteTime": {
     "end_time": "2025-08-22T19:33:12.512725Z",
     "start_time": "2025-08-22T19:33:12.510002Z"
    }
   },
   "cell_type": "code",
   "source": "5^2",
   "id": "b7614be7034e7a3c",
   "outputs": [
    {
     "data": {
      "text/plain": [
       "7"
      ]
     },
     "execution_count": 40,
     "metadata": {},
     "output_type": "execute_result"
    }
   ],
   "execution_count": 40
  },
  {
   "metadata": {
    "ExecuteTime": {
     "end_time": "2025-08-22T19:33:29.543963Z",
     "start_time": "2025-08-22T19:33:29.540825Z"
    }
   },
   "cell_type": "code",
   "source": [
    "import math\n",
    "\n",
    "\n",
    "dist(0,0, 2,2)"
   ],
   "id": "ccdfa19dd37bf270",
   "outputs": [
    {
     "data": {
      "text/plain": [
       "2.8284271247461903"
      ]
     },
     "execution_count": 41,
     "metadata": {},
     "output_type": "execute_result"
    }
   ],
   "execution_count": 41
  },
  {
   "metadata": {
    "ExecuteTime": {
     "end_time": "2025-08-22T19:43:05.586531Z",
     "start_time": "2025-08-22T19:43:05.583694Z"
    }
   },
   "cell_type": "code",
   "source": [
    "import heapq\n",
    "\n",
    "class LimitedMinHeap:\n",
    "    def __init__(self, maxsize: int):\n",
    "        self.heap = []\n",
    "        self.maxsize = maxsize\n",
    "\n",
    "    def push(self, val: int) -> None:\n",
    "        if len(self.heap) < self.maxsize:\n",
    "            heapq.heappush(self.heap, val)\n",
    "        elif val  self.heap[0]:\n",
    "            heapq.heapreplace(self.heap, val)  # Pop smallest and push new value\n",
    "\n",
    "    def pop(self) -> int:\n",
    "        return heapq.heappop(self.heap)\n",
    "\n",
    "    def peek(self) -> int:\n",
    "        return self.heap[0]\n",
    "\n",
    "    def size(self) -> int:\n",
    "        return len(self.heap)\n",
    "\n",
    "    def get_heap(self):\n",
    "        return self.heap"
   ],
   "id": "12239e69ac47351a",
   "outputs": [],
   "execution_count": 44
  },
  {
   "metadata": {
    "ExecuteTime": {
     "end_time": "2025-08-22T19:43:49.118370Z",
     "start_time": "2025-08-22T19:43:49.115514Z"
    }
   },
   "cell_type": "code",
   "source": [
    "test = LimitedMinHeap(3)\n",
    "\n",
    "test.push(5)\n",
    "test.push(4)\n",
    "test.push(3)\n",
    "test.push(2)\n",
    "test.push(1)\n",
    "\n",
    "test.get_heap()"
   ],
   "id": "dfb58e43cff2171d",
   "outputs": [
    {
     "data": {
      "text/plain": [
       "[3, 5, 4]"
      ]
     },
     "execution_count": 48,
     "metadata": {},
     "output_type": "execute_result"
    }
   ],
   "execution_count": 48
  },
  {
   "metadata": {
    "ExecuteTime": {
     "end_time": "2025-08-22T19:51:10.555248Z",
     "start_time": "2025-08-22T19:51:10.552485Z"
    }
   },
   "cell_type": "code",
   "source": [
    "temp = [5,63,4,21,1,3,0,-5]\n",
    "\n",
    "heapq.heapify(temp)\n",
    "\n",
    "heapq.heappop(temp), heapq.heappop(temp), heapq.heappop(temp), heapq.heappop(temp)"
   ],
   "id": "a09a479db21c3cc6",
   "outputs": [
    {
     "data": {
      "text/plain": [
       "(-5, 0, 1, 3)"
      ]
     },
     "execution_count": 54,
     "metadata": {},
     "output_type": "execute_result"
    }
   ],
   "execution_count": 54
  },
  {
   "metadata": {
    "ExecuteTime": {
     "end_time": "2025-08-22T19:45:10.190613Z",
     "start_time": "2025-08-22T19:45:10.187767Z"
    }
   },
   "cell_type": "code",
   "source": [
    "temp = []\n",
    "heapq.heappush(temp, 5)\n",
    "heapq.heappush(temp, 4)\n",
    "heapq.heappush(temp, 10)\n",
    "heapq.heappush(temp, 2)\n",
    "heapq.heappush(temp, 1)\n",
    "temp"
   ],
   "id": "4c27cfefdc2ffd90",
   "outputs": [
    {
     "data": {
      "text/plain": [
       "[1, 2, 10, 5, 4]"
      ]
     },
     "execution_count": 51,
     "metadata": {},
     "output_type": "execute_result"
    }
   ],
   "execution_count": 51
  },
  {
   "metadata": {},
   "cell_type": "code",
   "outputs": [],
   "execution_count": null,
   "source": "",
   "id": "9618dd28e1b1ec7"
  }
 ],
 "metadata": {
  "kernelspec": {
   "display_name": "Python 3",
   "language": "python",
   "name": "python3"
  },
  "language_info": {
   "codemirror_mode": {
    "name": "ipython",
    "version": 2
   },
   "file_extension": ".py",
   "mimetype": "text/x-python",
   "name": "python",
   "nbconvert_exporter": "python",
   "pygments_lexer": "ipython2",
   "version": "2.7.6"
  }
 },
 "nbformat": 4,
 "nbformat_minor": 5
}
