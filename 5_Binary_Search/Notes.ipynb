{
 "cells": [
  {
   "metadata": {},
   "cell_type": "markdown",
   "source": [
    "# Search Array\n",
    "- Efficient search for a SORTED array\n",
    "- Get middle value of the array. Check if target value is <= or > middle value\n",
    "- If <= move end to middle\n",
    "- If > move start to middle\n",
    "- repeat until found or return false"
   ],
   "id": "e60ac3c08582159"
  },
  {
   "cell_type": "code",
   "id": "initial_id",
   "metadata": {
    "collapsed": true,
    "ExecuteTime": {
     "end_time": "2025-08-18T17:44:18.895077Z",
     "start_time": "2025-08-18T17:44:18.890742Z"
    }
   },
   "source": [
    "def binary_search(arr, target):\n",
    "    L, R = 0, len(arr) - 1\n",
    "\n",
    "    while L <= R:\n",
    "        mid = (L + R) // 2\n",
    "\n",
    "        if target > arr[mid]:\n",
    "            L = mid + 1\n",
    "        elif target < arr[mid]:\n",
    "            R = mid - 1\n",
    "        else:\n",
    "            return mid\n",
    "\n",
    "        print(L, mid, R, arr[mid], arr[L:R])\n",
    "\n",
    "    return False\n",
    "\n",
    "\n",
    "binary_search([1, 2, 4, 5, 6], 2)\n"
   ],
   "outputs": [
    {
     "name": "stdout",
     "output_type": "stream",
     "text": [
      "0 2 1 4 [1]\n",
      "1 0 1 1 []\n"
     ]
    },
    {
     "data": {
      "text/plain": [
       "1"
      ]
     },
     "execution_count": 44,
     "metadata": {},
     "output_type": "execute_result"
    }
   ],
   "execution_count": 44
  },
  {
   "metadata": {},
   "cell_type": "markdown",
   "source": [
    "# Search Range\n",
    "- Common interview question, similar to Binary search\n",
    "- Instead of checking of arr[mid] == target\n",
    "- We're doing if isConditionFunc(arr[mid]) is True then search is True\n"
   ],
   "id": "535d72a381ea2cc0"
  },
  {
   "metadata": {},
   "cell_type": "code",
   "outputs": [],
   "execution_count": null,
   "source": "",
   "id": "2523ec168a881b03"
  }
 ],
 "metadata": {
  "kernelspec": {
   "display_name": "Python 3",
   "language": "python",
   "name": "python3"
  },
  "language_info": {
   "codemirror_mode": {
    "name": "ipython",
    "version": 2
   },
   "file_extension": ".py",
   "mimetype": "text/x-python",
   "name": "python",
   "nbconvert_exporter": "python",
   "pygments_lexer": "ipython2",
   "version": "2.7.6"
  }
 },
 "nbformat": 4,
 "nbformat_minor": 5
}
