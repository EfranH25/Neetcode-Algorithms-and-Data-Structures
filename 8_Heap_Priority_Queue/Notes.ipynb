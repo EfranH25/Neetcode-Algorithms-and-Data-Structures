{
 "cells": [
  {
   "metadata": {},
   "cell_type": "markdown",
   "source": [
    "# Heap (Priority Queue) Properties\n",
    "- Tree based data structure that maintains largest/smallest number at root\n",
    "- Min Heap: Smallest value at root and has highest priority to be removed\n",
    "- Max Heap: Largest value at root and has highest priority to be removed\n",
    "- Properties (Min Heap):\n",
    "    - Complete Binary Heap: Every level is full (all nodes  have left & right connection) except maybe the most bottom level. Filled contiguously from left to right\n",
    "    - Order - Lower Priority: Every descendent of a node should be greater than or equal to ancestor node. This is a recursive property\n",
    "- Drawn using a tree data structure but under hood they are implemented w/ arrays\n",
    "    - Any nodes left child: 2 * i\n",
    "    - Any nodes right child: 2 * i + 1\n",
    "    - Parent of node: i/2\n",
    "-"
   ],
   "id": "217ef4314d087f3c"
  },
  {
   "metadata": {},
   "cell_type": "markdown",
   "source": [
    "# Heap Push & Pop\n",
    "- Read min/max is O(1)\n",
    "- Pushing and Popping is O(logn)\n",
    "- Pushing :\n",
    "    - append new element to array (since heap has to be complete binary tree i.e. structure property)\n",
    "    - check if heap is violated (ancestor less than new node i.e. to order property)\n",
    "    - bubble up node to new spot until no longer violated\n",
    "- Pop:\n",
    "    - Take root node and value being popped out\n",
    "    - Take last node and set as value of root node\n",
    "    - Bubble down with min children, swapping nodes until its in correct place"
   ],
   "id": "fd3154a1c8eb8d97"
  },
  {
   "metadata": {
    "ExecuteTime": {
     "end_time": "2025-08-26T02:27:05.013375Z",
     "start_time": "2025-08-26T02:27:05.007181Z"
    }
   },
   "cell_type": "code",
   "source": [
    "# Min Heap\n",
    "class Heap:\n",
    "    def __init__(self):\n",
    "        self.heap = [0]\n",
    "\n",
    "    def push(self, val):\n",
    "        self.heap.append(val)\n",
    "        i = len(self.heap) - 1\n",
    "\n",
    "        # Percolate up\n",
    "        while i > 1 and self.heap[i] < self.heap[i // 2]:\n",
    "            tmp = self.heap[i]\n",
    "            self.heap[i] = self.heap[i // 2]\n",
    "            self.heap[i // 2] = tmp\n",
    "            i = i // 2\n",
    "\n",
    "    def pop(self):\n",
    "        if len(self.heap) == 1:\n",
    "            return None\n",
    "        if len(self.heap) == 2:\n",
    "            return self.heap.pop()\n",
    "\n",
    "        res = self.heap[1]\n",
    "        # Move last value to root\n",
    "        self.heap[1] = self.heap.pop()\n",
    "        i = 1\n",
    "        # Percolate down\n",
    "        while 2 * i < len(self.heap):\n",
    "            if (2 * i + 1 < len(self.heap) and\n",
    "            self.heap[2 * i + 1] < self.heap[2 * i] and\n",
    "            self.heap[i] > self.heap[2 * i + 1]):\n",
    "                # Swap right child\n",
    "                tmp = self.heap[i]\n",
    "                self.heap[i] = self.heap[2 * i + 1]\n",
    "                self.heap[2 * i + 1] = tmp\n",
    "                i = 2 * i + 1\n",
    "            elif self.heap[i] > self.heap[2 * i]:\n",
    "                # Swap left child\n",
    "                tmp = self.heap[i]\n",
    "                self.heap[i] = self.heap[2 * i]\n",
    "                self.heap[2 * i] = tmp\n",
    "                i = 2 * i\n",
    "            else:\n",
    "                break\n",
    "        return res\n",
    "\n",
    "    def top(self):\n",
    "        if len(self.heap) > 1:\n",
    "            return self.heap[1]\n",
    "        return None\n",
    "\n",
    "    def heapify(self, arr):\n",
    "        # 0-th position is moved to the end\n",
    "        arr.append(arr[0])\n",
    "\n",
    "        self.heap = arr\n",
    "        cur = (len(self.heap) - 1) // 2\n",
    "        while cur > 0:\n",
    "            # Percolate down\n",
    "            i = cur\n",
    "            while 2 * i < len(self.heap):\n",
    "                if (2 * i + 1 < len(self.heap) and\n",
    "                self.heap[2 * i + 1] < self.heap[2 * i] and\n",
    "                self.heap[i] > self.heap[2 * i + 1]):\n",
    "                    # Swap right child\n",
    "                    tmp = self.heap[i]\n",
    "                    self.heap[i] = self.heap[2 * i + 1]\n",
    "                    self.heap[2 * i + 1] = tmp\n",
    "                    i = 2 * i + 1\n",
    "                elif self.heap[i] > self.heap[2 * i]:\n",
    "                    # Swap left child\n",
    "                    tmp = self.heap[i]\n",
    "                    self.heap[i] = self.heap[2 * i]\n",
    "                    self.heap[2 * i] = tmp\n",
    "                    i = 2 * i\n",
    "                else:\n",
    "                    break\n",
    "            cur -= 1\n"
   ],
   "id": "8a77efef8c1e7822",
   "outputs": [],
   "execution_count": 1
  },
  {
   "metadata": {},
   "cell_type": "markdown",
   "source": [
    "# Heapify\n",
    "- Efficient way of turning a list into a Heap instead of just iterating through list and pushing (O(nlogn)\n",
    "- Operation is O(n)!"
   ],
   "id": "2e4fbad0a6e61104"
  },
  {
   "metadata": {},
   "cell_type": "code",
   "outputs": [],
   "execution_count": null,
   "source": "",
   "id": "909c759e048c5aec"
  }
 ],
 "metadata": {
  "kernelspec": {
   "display_name": "Python 3",
   "language": "python",
   "name": "python3"
  },
  "language_info": {
   "codemirror_mode": {
    "name": "ipython",
    "version": 2
   },
   "file_extension": ".py",
   "mimetype": "text/x-python",
   "name": "python",
   "nbconvert_exporter": "python",
   "pygments_lexer": "ipython2",
   "version": "2.7.6"
  }
 },
 "nbformat": 4,
 "nbformat_minor": 5
}
